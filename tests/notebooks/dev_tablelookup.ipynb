{
 "cells": [
  {
   "cell_type": "code",
   "execution_count": 1,
   "metadata": {},
   "outputs": [],
   "source": [
    "%load_ext autoreload\n",
    "%autoreload 2\n",
    "\n",
    "# noinspection PyUnresolvedReferences\n",
    "from rowgenerators import parse_app_url\n",
    "from publicdata.census import CensusFileUrl, CensusReporterUrl\n",
    "import pandas as pd\n",
    "from publicdata.census.files.metafiles import *\n"
   ]
  },
  {
   "cell_type": "code",
   "execution_count": 14,
   "outputs": [
    {
     "name": "stdout",
     "output_type": "stream",
     "text": [
      "(1140, 13)\n"
     ]
    },
    {
     "name": "stderr",
     "output_type": "stream",
     "text": [
      "/Users/eric/proj/metatab-dev/metapack-dev/publicdata_census/src/publicdata/census/files/metafiles.py:566: FutureWarning: The default value of regex will change from True to False in a future version.\n",
      "  df['stripped_title'] = df.stripped_title.str.replace(s, '')\n"
     ]
    },
    {
     "data": {
      "text/plain": "     table_id    seq  start_pos  \\\n0      B01001    [1]          7   \n1     B01001A    [1]         56   \n2     B01001B    [1]         87   \n3     B01001C    [1]        118   \n4     B01001D    [1]        149   \n...       ...    ...        ...   \n1135  B992708  [147]         59   \n1136  B992709  [147]         62   \n1137   B99281  [147]         65   \n1138   B99282  [147]         68   \n1139   B99283  [147]         77   \n\n                                                  title  \\\n0                                            Sex By Age   \n1                              Sex By Age (White Alone)   \n2          Sex By Age (Black Or African American Alone)   \n3     Sex By Age (American Indian And Alaska Native ...   \n4                              Sex By Age (Asian Alone)   \n...                                                 ...   \n1135     Allocation Of Tricare/Military Health Coverage   \n1136                       Allocation Of Va Health Care   \n1137            Allocation Of Household Internet Access   \n1138              Allocation Of Household Computer Type   \n1139  Allocation Of Household Internet Subscription ...   \n\n                                               universe      subject   race  \\\n0                                      Total population      Age-Sex    all   \n1                            People who are White alone      Age-Sex  white   \n2                       Black or African American alone      Age-Sex  black   \n3     People who are American Indian and Alaska Nati...      Age-Sex   aian   \n4                            People who are Asian alone      Age-Sex  asian   \n...                                                 ...          ...    ...   \n1135           Civilian noninstitutionalized population  Imputations    all   \n1136           Civilian noninstitutionalized population  Imputations    all   \n1137                                         Households  Imputations    all   \n1138                                         Households  Imputations    all   \n1139                                         Households  Imputations    all   \n\n     age_range  age  sex                                         bare_title  \\\n0         None  all  all                                         Sex By Age   \n1         None  all  all                                         Sex By Age   \n2         None  all  all                                         Sex By Age   \n3         None  all  all                                         Sex By Age   \n4         None  all  all                                         Sex By Age   \n...        ...  ...  ...                                                ...   \n1135      None  all  all     Allocation Of Tricare/Military Health Coverage   \n1136      None  all  all                       Allocation Of Va Health Care   \n1137      None  all  all            Allocation Of Household Internet Access   \n1138      None  all  all              Allocation Of Household Computer Type   \n1139      None  all  all  Allocation Of Household Internet Subscription ...   \n\n                                         stripped_title  redundant_paths  \n0                                            Population            False  \n1                                            Population            False  \n2                                            Population            False  \n3                                            Population            False  \n4                                            Population            False  \n...                                                 ...              ...  \n1135     Allocation Of Tricare/Military Health Coverage            False  \n1136                       Allocation Of Va Health Care            False  \n1137            Allocation Of Household Internet Access            False  \n1138              Allocation Of Household Computer Type            False  \n1139  Allocation Of Household Internet Subscription ...            False  \n\n[1140 rows x 13 columns]",
      "text/html": "<div>\n<style scoped>\n    .dataframe tbody tr th:only-of-type {\n        vertical-align: middle;\n    }\n\n    .dataframe tbody tr th {\n        vertical-align: top;\n    }\n\n    .dataframe thead th {\n        text-align: right;\n    }\n</style>\n<table border=\"1\" class=\"dataframe\">\n  <thead>\n    <tr style=\"text-align: right;\">\n      <th></th>\n      <th>table_id</th>\n      <th>seq</th>\n      <th>start_pos</th>\n      <th>title</th>\n      <th>universe</th>\n      <th>subject</th>\n      <th>race</th>\n      <th>age_range</th>\n      <th>age</th>\n      <th>sex</th>\n      <th>bare_title</th>\n      <th>stripped_title</th>\n      <th>redundant_paths</th>\n    </tr>\n  </thead>\n  <tbody>\n    <tr>\n      <th>0</th>\n      <td>B01001</td>\n      <td>[1]</td>\n      <td>7</td>\n      <td>Sex By Age</td>\n      <td>Total population</td>\n      <td>Age-Sex</td>\n      <td>all</td>\n      <td>None</td>\n      <td>all</td>\n      <td>all</td>\n      <td>Sex By Age</td>\n      <td>Population</td>\n      <td>False</td>\n    </tr>\n    <tr>\n      <th>1</th>\n      <td>B01001A</td>\n      <td>[1]</td>\n      <td>56</td>\n      <td>Sex By Age (White Alone)</td>\n      <td>People who are White alone</td>\n      <td>Age-Sex</td>\n      <td>white</td>\n      <td>None</td>\n      <td>all</td>\n      <td>all</td>\n      <td>Sex By Age</td>\n      <td>Population</td>\n      <td>False</td>\n    </tr>\n    <tr>\n      <th>2</th>\n      <td>B01001B</td>\n      <td>[1]</td>\n      <td>87</td>\n      <td>Sex By Age (Black Or African American Alone)</td>\n      <td>Black or African American alone</td>\n      <td>Age-Sex</td>\n      <td>black</td>\n      <td>None</td>\n      <td>all</td>\n      <td>all</td>\n      <td>Sex By Age</td>\n      <td>Population</td>\n      <td>False</td>\n    </tr>\n    <tr>\n      <th>3</th>\n      <td>B01001C</td>\n      <td>[1]</td>\n      <td>118</td>\n      <td>Sex By Age (American Indian And Alaska Native ...</td>\n      <td>People who are American Indian and Alaska Nati...</td>\n      <td>Age-Sex</td>\n      <td>aian</td>\n      <td>None</td>\n      <td>all</td>\n      <td>all</td>\n      <td>Sex By Age</td>\n      <td>Population</td>\n      <td>False</td>\n    </tr>\n    <tr>\n      <th>4</th>\n      <td>B01001D</td>\n      <td>[1]</td>\n      <td>149</td>\n      <td>Sex By Age (Asian Alone)</td>\n      <td>People who are Asian alone</td>\n      <td>Age-Sex</td>\n      <td>asian</td>\n      <td>None</td>\n      <td>all</td>\n      <td>all</td>\n      <td>Sex By Age</td>\n      <td>Population</td>\n      <td>False</td>\n    </tr>\n    <tr>\n      <th>...</th>\n      <td>...</td>\n      <td>...</td>\n      <td>...</td>\n      <td>...</td>\n      <td>...</td>\n      <td>...</td>\n      <td>...</td>\n      <td>...</td>\n      <td>...</td>\n      <td>...</td>\n      <td>...</td>\n      <td>...</td>\n      <td>...</td>\n    </tr>\n    <tr>\n      <th>1135</th>\n      <td>B992708</td>\n      <td>[147]</td>\n      <td>59</td>\n      <td>Allocation Of Tricare/Military Health Coverage</td>\n      <td>Civilian noninstitutionalized population</td>\n      <td>Imputations</td>\n      <td>all</td>\n      <td>None</td>\n      <td>all</td>\n      <td>all</td>\n      <td>Allocation Of Tricare/Military Health Coverage</td>\n      <td>Allocation Of Tricare/Military Health Coverage</td>\n      <td>False</td>\n    </tr>\n    <tr>\n      <th>1136</th>\n      <td>B992709</td>\n      <td>[147]</td>\n      <td>62</td>\n      <td>Allocation Of Va Health Care</td>\n      <td>Civilian noninstitutionalized population</td>\n      <td>Imputations</td>\n      <td>all</td>\n      <td>None</td>\n      <td>all</td>\n      <td>all</td>\n      <td>Allocation Of Va Health Care</td>\n      <td>Allocation Of Va Health Care</td>\n      <td>False</td>\n    </tr>\n    <tr>\n      <th>1137</th>\n      <td>B99281</td>\n      <td>[147]</td>\n      <td>65</td>\n      <td>Allocation Of Household Internet Access</td>\n      <td>Households</td>\n      <td>Imputations</td>\n      <td>all</td>\n      <td>None</td>\n      <td>all</td>\n      <td>all</td>\n      <td>Allocation Of Household Internet Access</td>\n      <td>Allocation Of Household Internet Access</td>\n      <td>False</td>\n    </tr>\n    <tr>\n      <th>1138</th>\n      <td>B99282</td>\n      <td>[147]</td>\n      <td>68</td>\n      <td>Allocation Of Household Computer Type</td>\n      <td>Households</td>\n      <td>Imputations</td>\n      <td>all</td>\n      <td>None</td>\n      <td>all</td>\n      <td>all</td>\n      <td>Allocation Of Household Computer Type</td>\n      <td>Allocation Of Household Computer Type</td>\n      <td>False</td>\n    </tr>\n    <tr>\n      <th>1139</th>\n      <td>B99283</td>\n      <td>[147]</td>\n      <td>77</td>\n      <td>Allocation Of Household Internet Subscription ...</td>\n      <td>Households</td>\n      <td>Imputations</td>\n      <td>all</td>\n      <td>None</td>\n      <td>all</td>\n      <td>all</td>\n      <td>Allocation Of Household Internet Subscription ...</td>\n      <td>Allocation Of Household Internet Subscription ...</td>\n      <td>False</td>\n    </tr>\n  </tbody>\n</table>\n<p>1140 rows × 13 columns</p>\n</div>"
     },
     "execution_count": 14,
     "metadata": {},
     "output_type": "execute_result"
    }
   ],
   "source": [
    "\n",
    "tl = TableLookup(2020, 5)\n",
    "tables = tl.tables\n",
    "tdf = tl.tables_df\n",
    "print(tdf.shape)\n",
    "tdf"
   ],
   "metadata": {
    "collapsed": false
   }
  },
  {
   "cell_type": "code",
   "execution_count": 17,
   "metadata": {},
   "outputs": [
    {
     "data": {
      "text/plain": "(27850, 18)"
     },
     "execution_count": 17,
     "metadata": {},
     "output_type": "execute_result"
    }
   ],
   "source": [
    "cdf = tl.columns_df\n",
    "cdf.shape\n"
   ]
  },
  {
   "cell_type": "code",
   "execution_count": 19,
   "outputs": [
    {
     "data": {
      "text/plain": "0    16589\nName: n_levels, dtype: int64"
     },
     "execution_count": 19,
     "metadata": {},
     "output_type": "execute_result"
    }
   ],
   "source": [
    "cdf[cdf.filtered_path.isnull()].n_levels.value_counts()"
   ],
   "metadata": {
    "collapsed": false
   }
  },
  {
   "cell_type": "code",
   "execution_count": 5,
   "metadata": {},
   "outputs": [
    {
     "data": {
      "text/plain": "            uid table_id            name   sex raceeth      age age_range  \\\n50  B01001A_002  B01001A            Male  male   white      all      None   \n51  B01001A_003  B01001A   Under 5 years  male   white  000-005    (0, 5)   \n52  B01001A_004  B01001A    5 to 9 years  male   white  005-009    (5, 9)   \n53  B01001A_005  B01001A  10 to 14 years  male   white  010-014  (10, 14)   \n54  B01001A_006  B01001A  15 to 17 years  male   white  015-017  (15, 17)   \n\n    min_age  max_age poverty_status                        path filtered_path  \\\n50        0      120            all                 /total/male          None   \n51        0        5            all   /total/male/under 5 years          None   \n52        5        9            all    /total/male/5 to 9 years          None   \n53       10       14            all  /total/male/10 to 14 years          None   \n54       15       17            all  /total/male/15 to 17 years          None   \n\n   filtered_pathname  n_levels level_1 level_2 level_3 level_4  \n50                           0    None    None    None    None  \n51                           0    None    None    None    None  \n52                           0    None    None    None    None  \n53                           0    None    None    None    None  \n54                           0    None    None    None    None  ",
      "text/html": "<div>\n<style scoped>\n    .dataframe tbody tr th:only-of-type {\n        vertical-align: middle;\n    }\n\n    .dataframe tbody tr th {\n        vertical-align: top;\n    }\n\n    .dataframe thead th {\n        text-align: right;\n    }\n</style>\n<table border=\"1\" class=\"dataframe\">\n  <thead>\n    <tr style=\"text-align: right;\">\n      <th></th>\n      <th>uid</th>\n      <th>table_id</th>\n      <th>name</th>\n      <th>sex</th>\n      <th>raceeth</th>\n      <th>age</th>\n      <th>age_range</th>\n      <th>min_age</th>\n      <th>max_age</th>\n      <th>poverty_status</th>\n      <th>path</th>\n      <th>filtered_path</th>\n      <th>filtered_pathname</th>\n      <th>n_levels</th>\n      <th>level_1</th>\n      <th>level_2</th>\n      <th>level_3</th>\n      <th>level_4</th>\n    </tr>\n  </thead>\n  <tbody>\n    <tr>\n      <th>50</th>\n      <td>B01001A_002</td>\n      <td>B01001A</td>\n      <td>Male</td>\n      <td>male</td>\n      <td>white</td>\n      <td>all</td>\n      <td>None</td>\n      <td>0</td>\n      <td>120</td>\n      <td>all</td>\n      <td>/total/male</td>\n      <td>None</td>\n      <td></td>\n      <td>0</td>\n      <td>None</td>\n      <td>None</td>\n      <td>None</td>\n      <td>None</td>\n    </tr>\n    <tr>\n      <th>51</th>\n      <td>B01001A_003</td>\n      <td>B01001A</td>\n      <td>Under 5 years</td>\n      <td>male</td>\n      <td>white</td>\n      <td>000-005</td>\n      <td>(0, 5)</td>\n      <td>0</td>\n      <td>5</td>\n      <td>all</td>\n      <td>/total/male/under 5 years</td>\n      <td>None</td>\n      <td></td>\n      <td>0</td>\n      <td>None</td>\n      <td>None</td>\n      <td>None</td>\n      <td>None</td>\n    </tr>\n    <tr>\n      <th>52</th>\n      <td>B01001A_004</td>\n      <td>B01001A</td>\n      <td>5 to 9 years</td>\n      <td>male</td>\n      <td>white</td>\n      <td>005-009</td>\n      <td>(5, 9)</td>\n      <td>5</td>\n      <td>9</td>\n      <td>all</td>\n      <td>/total/male/5 to 9 years</td>\n      <td>None</td>\n      <td></td>\n      <td>0</td>\n      <td>None</td>\n      <td>None</td>\n      <td>None</td>\n      <td>None</td>\n    </tr>\n    <tr>\n      <th>53</th>\n      <td>B01001A_005</td>\n      <td>B01001A</td>\n      <td>10 to 14 years</td>\n      <td>male</td>\n      <td>white</td>\n      <td>010-014</td>\n      <td>(10, 14)</td>\n      <td>10</td>\n      <td>14</td>\n      <td>all</td>\n      <td>/total/male/10 to 14 years</td>\n      <td>None</td>\n      <td></td>\n      <td>0</td>\n      <td>None</td>\n      <td>None</td>\n      <td>None</td>\n      <td>None</td>\n    </tr>\n    <tr>\n      <th>54</th>\n      <td>B01001A_006</td>\n      <td>B01001A</td>\n      <td>15 to 17 years</td>\n      <td>male</td>\n      <td>white</td>\n      <td>015-017</td>\n      <td>(15, 17)</td>\n      <td>15</td>\n      <td>17</td>\n      <td>all</td>\n      <td>/total/male/15 to 17 years</td>\n      <td>None</td>\n      <td></td>\n      <td>0</td>\n      <td>None</td>\n      <td>None</td>\n      <td>None</td>\n      <td>None</td>\n    </tr>\n  </tbody>\n</table>\n</div>"
     },
     "execution_count": 5,
     "metadata": {},
     "output_type": "execute_result"
    }
   ],
   "source": [
    "cdf[(cdf.sex == 'male') & (cdf.raceeth == 'white')].head()"
   ]
  },
  {
   "cell_type": "code",
   "execution_count": 6,
   "metadata": {},
   "outputs": [
    {
     "data": {
      "text/plain": "              uid table_id                     name  sex raceeth  age  \\\n27406  B98002_002   B98002  Final actual interviews  all     all  all   \n\n      age_range  min_age  max_age poverty_status  \\\n27406      None        0      120            all   \n\n                                                   path  \\\n27406  /initial sample selected/final actual interviews   \n\n                  filtered_path  \\\n27406  /initial sample selected   \n\n                                      filtered_pathname  n_levels  \\\n27406  /initial sample selected/final actual interviews         1   \n\n                       level_1 level_2 level_3 level_4  \n27406  initial sample selected    None    None    None  ",
      "text/html": "<div>\n<style scoped>\n    .dataframe tbody tr th:only-of-type {\n        vertical-align: middle;\n    }\n\n    .dataframe tbody tr th {\n        vertical-align: top;\n    }\n\n    .dataframe thead th {\n        text-align: right;\n    }\n</style>\n<table border=\"1\" class=\"dataframe\">\n  <thead>\n    <tr style=\"text-align: right;\">\n      <th></th>\n      <th>uid</th>\n      <th>table_id</th>\n      <th>name</th>\n      <th>sex</th>\n      <th>raceeth</th>\n      <th>age</th>\n      <th>age_range</th>\n      <th>min_age</th>\n      <th>max_age</th>\n      <th>poverty_status</th>\n      <th>path</th>\n      <th>filtered_path</th>\n      <th>filtered_pathname</th>\n      <th>n_levels</th>\n      <th>level_1</th>\n      <th>level_2</th>\n      <th>level_3</th>\n      <th>level_4</th>\n    </tr>\n  </thead>\n  <tbody>\n    <tr>\n      <th>27406</th>\n      <td>B98002_002</td>\n      <td>B98002</td>\n      <td>Final actual interviews</td>\n      <td>all</td>\n      <td>all</td>\n      <td>all</td>\n      <td>None</td>\n      <td>0</td>\n      <td>120</td>\n      <td>all</td>\n      <td>/initial sample selected/final actual interviews</td>\n      <td>/initial sample selected</td>\n      <td>/initial sample selected/final actual interviews</td>\n      <td>1</td>\n      <td>initial sample selected</td>\n      <td>None</td>\n      <td>None</td>\n      <td>None</td>\n    </tr>\n  </tbody>\n</table>\n</div>"
     },
     "execution_count": 6,
     "metadata": {},
     "output_type": "execute_result"
    }
   ],
   "source": [
    "lc = cdf.level_1.value_counts()\n",
    "cdf[cdf.level_1.isin(lc[lc == 1].index)].head()\n"
   ]
  },
  {
   "cell_type": "code",
   "execution_count": 7,
   "metadata": {},
   "outputs": [
    {
     "data": {
      "text/plain": "     table_id    seq  start_pos  \\\n1083   B99182  [146]        107   \n512    B19001   [58]          7   \n977   C27001C  [137]        141   \n511    C18131   [57]        197   \n803    B25019  [118]         37   \n\n                                                  title  \\\n1083  Allocation Of Hearing Difficulty For The Civil...   \n512   Household Income In The Past 12 Months (In 202...   \n977   Health Insurance Coverage Status By Age (Ameri...   \n511   Ratio Of Income To Poverty Level In The Past 1...   \n803                           Aggregate Number Of Rooms   \n\n                                               universe           subject  \\\n1083           Civilian noninstitutionalized population       Imputations   \n512                                          Households            Income   \n977   AMERICAN INDIAN AND ALASKA NATIVE ALONE CIVILI...  Health Insurance   \n511   Civilian Noninstitutionalized Population for W...        Disability   \n803                                       Housing units           Housing   \n\n      race age_range  age  sex  \\\n1083   all      None  all  all   \n512    all      None  all  all   \n977   aian      None  all  all   \n511    all      None  all  all   \n803    all      None  all  all   \n\n                                             bare_title  \\\n1083  Allocation Of Hearing Difficulty For The Civil...   \n512   Household Income In The Past 12 Months (In 202...   \n977             Health Insurance Coverage Status By Age   \n511   Ratio Of Income To Poverty Level In The Past 1...   \n803                           Aggregate Number Of Rooms   \n\n                                         stripped_title  redundant_paths  \n1083  Allocation Of Hearing Difficulty For The Civil...            False  \n512                                Household Income  ()            False  \n977             Health Insurance Coverage Status By Age            False  \n511   Ratio Of Income To Poverty Level  By Disabilit...            False  \n803                           Aggregate Number Of Rooms            False  ",
      "text/html": "<div>\n<style scoped>\n    .dataframe tbody tr th:only-of-type {\n        vertical-align: middle;\n    }\n\n    .dataframe tbody tr th {\n        vertical-align: top;\n    }\n\n    .dataframe thead th {\n        text-align: right;\n    }\n</style>\n<table border=\"1\" class=\"dataframe\">\n  <thead>\n    <tr style=\"text-align: right;\">\n      <th></th>\n      <th>table_id</th>\n      <th>seq</th>\n      <th>start_pos</th>\n      <th>title</th>\n      <th>universe</th>\n      <th>subject</th>\n      <th>race</th>\n      <th>age_range</th>\n      <th>age</th>\n      <th>sex</th>\n      <th>bare_title</th>\n      <th>stripped_title</th>\n      <th>redundant_paths</th>\n    </tr>\n  </thead>\n  <tbody>\n    <tr>\n      <th>1083</th>\n      <td>B99182</td>\n      <td>[146]</td>\n      <td>107</td>\n      <td>Allocation Of Hearing Difficulty For The Civil...</td>\n      <td>Civilian noninstitutionalized population</td>\n      <td>Imputations</td>\n      <td>all</td>\n      <td>None</td>\n      <td>all</td>\n      <td>all</td>\n      <td>Allocation Of Hearing Difficulty For The Civil...</td>\n      <td>Allocation Of Hearing Difficulty For The Civil...</td>\n      <td>False</td>\n    </tr>\n    <tr>\n      <th>512</th>\n      <td>B19001</td>\n      <td>[58]</td>\n      <td>7</td>\n      <td>Household Income In The Past 12 Months (In 202...</td>\n      <td>Households</td>\n      <td>Income</td>\n      <td>all</td>\n      <td>None</td>\n      <td>all</td>\n      <td>all</td>\n      <td>Household Income In The Past 12 Months (In 202...</td>\n      <td>Household Income  ()</td>\n      <td>False</td>\n    </tr>\n    <tr>\n      <th>977</th>\n      <td>C27001C</td>\n      <td>[137]</td>\n      <td>141</td>\n      <td>Health Insurance Coverage Status By Age (Ameri...</td>\n      <td>AMERICAN INDIAN AND ALASKA NATIVE ALONE CIVILI...</td>\n      <td>Health Insurance</td>\n      <td>aian</td>\n      <td>None</td>\n      <td>all</td>\n      <td>all</td>\n      <td>Health Insurance Coverage Status By Age</td>\n      <td>Health Insurance Coverage Status By Age</td>\n      <td>False</td>\n    </tr>\n    <tr>\n      <th>511</th>\n      <td>C18131</td>\n      <td>[57]</td>\n      <td>197</td>\n      <td>Ratio Of Income To Poverty Level In The Past 1...</td>\n      <td>Civilian Noninstitutionalized Population for W...</td>\n      <td>Disability</td>\n      <td>all</td>\n      <td>None</td>\n      <td>all</td>\n      <td>all</td>\n      <td>Ratio Of Income To Poverty Level In The Past 1...</td>\n      <td>Ratio Of Income To Poverty Level  By Disabilit...</td>\n      <td>False</td>\n    </tr>\n    <tr>\n      <th>803</th>\n      <td>B25019</td>\n      <td>[118]</td>\n      <td>37</td>\n      <td>Aggregate Number Of Rooms</td>\n      <td>Housing units</td>\n      <td>Housing</td>\n      <td>all</td>\n      <td>None</td>\n      <td>all</td>\n      <td>all</td>\n      <td>Aggregate Number Of Rooms</td>\n      <td>Aggregate Number Of Rooms</td>\n      <td>False</td>\n    </tr>\n  </tbody>\n</table>\n</div>"
     },
     "execution_count": 7,
     "metadata": {},
     "output_type": "execute_result"
    }
   ],
   "source": [
    "tdf[tdf.universe.apply(Column.extract_age).isnull()].sample(30).head()"
   ]
  },
  {
   "cell_type": "code",
   "execution_count": 8,
   "metadata": {},
   "outputs": [
    {
     "data": {
      "text/plain": "['Sex By Place Of Birth By Year Of Entry For The Foreign-Born Population for Foreign-born population',\n 'Detailed Occupation By Median Earnings In The Past 12 Months (In 2020 Inflation-Adjusted Dollars) For The Full-Time, Year-Round Civilian Employed Female Population 16 Years And Over for Full-time, year-round civilian employed female population 16 years and over with earnings',\n 'Sex By School Enrollment By Level Of School By Type Of School For The Population 3 Years And Over for Population 3 years and over',\n 'Sex By Educational Attainment For The Population 25 Years And Over for American Indian and Alaska Native alone population 25 years and over',\n 'Types Of Health Insurance Coverage By Age for Civilian noninstitutionalized population',\n 'Tenure By Vehicles Available By Age Of Householder for Occupied housing units',\n 'Place Of Birth By Age In The United States for Total population in the United States',\n 'Sex By Age By Nativity And Citizenship Status for People who are Some Other Race alone',\n 'Private Health Insurance Status By Sex By Age for Civilian noninstitutionalized population',\n 'Group Quarters Type (3 Types) By Employment Status for Population 16 years and over',\n 'Allocation Of Earnings In The Past 12 Months For The Population 16 Years And Over - Percent Of Earnings Allocated for Population 16 years and over',\n 'Units In Structure for Occupied housing units with a householder who is American Indian and Alaska Native alone',\n 'Detailed Occupation For The Civilian Employed Male Population 16 Years And Over for Civilian employed male population 16 years and over',\n \"Field Of Bachelor'S Degree For First Major The Population 25 Years And Over for ASIAN ALONE POPULATION 25 YEARS AND OVER WITH A BACHELOR'S DEGREE OR HIGHER ATTAINMENT\",\n 'Average Household Size Of Occupied Housing Units By Tenure for Occupied housing units',\n 'Health Insurance Coverage Status By Ratio Of Income To Poverty Level In The Past 12 Months By Age for Civilian noninstitutionalized population for whom poverty status is determined',\n 'Poverty Status In The Past 12 Months By Sex By Age for White alone population for whom poverty status is determined',\n 'Detailed Occupation For The Civilian Employed Male Population 16 Years And Over for Civilian employed male population 16 years and over',\n 'Age By Veteran Status By Employment Status For The Civilian Population 18 To 64 Years for Civilian population 18 to 64 years',\n 'Geographical Mobility In The Past Year By Individual Income In The Past 12 Months (In 2020 Inflation-Adjusted Dollars) For Current Residence In The United States for Population 15 years and over in the United States',\n 'Household Type By Household Size for Households',\n 'Place Of Birth For The Foreign-Born Population In The United States for Foreign-born population excluding population born at sea',\n 'Sex By Age By Employment Status For The Population 16 Years And Over for White alone population 16 years and over',\n 'Language Spoken At Home By Ability To Speak English For The Population 5 Years And Over for Population 5 years and over',\n 'Private Health Insurance Status By Sex By Age for Civilian noninstitutionalized population',\n 'Detailed Occupation For The Civilian Employed Population 16 Years And Over for Civilian employed population 16 years and over',\n 'Median Age By Group Quarters Type (5 Types) for Total Population',\n 'Detailed Occupation For The Full-Time, Year-Round Civilian Employed Population 16 Years And Over for Full-time, year-round civilian employed population 16 years and over',\n 'Means Of Transportation To Work By Industry for Workers 16 years and over',\n 'Detailed Occupation For The Full-Time, Year-Round Civilian Employed Female Population 16 Years And Over for Full-time, year-round civilian employed female population 16 years and over']"
     },
     "execution_count": 8,
     "metadata": {},
     "output_type": "execute_result"
    }
   ],
   "source": [
    "t = tdf[['table_id','bare_title','universe']].merge(cdf)\n",
    "\n",
    "restr_cols = 'sex','raceeth','age_range','poverty'\n",
    "\n",
    "    \n",
    "t.apply(lambda r: f\"{r.bare_title} for {r.universe}\", axis=1).sample(30).to_list()"
   ]
  },
  {
   "cell_type": "code",
   "execution_count": 9,
   "metadata": {},
   "outputs": [
    {
     "name": "stdout",
     "output_type": "stream",
     "text": [
      "Index(['table_id', 'seq', 'start_pos', 'title', 'universe', 'subject', 'race',\n",
      "       'age_range', 'age', 'sex', 'bare_title', 'stripped_title',\n",
      "       'redundant_paths'],\n",
      "      dtype='object')\n",
      "Index(['uid', 'table_id', 'name', 'sex', 'raceeth', 'age', 'age_range',\n",
      "       'min_age', 'max_age', 'poverty_status', 'path', 'filtered_path',\n",
      "       'filtered_pathname', 'n_levels', 'level_1', 'level_2', 'level_3',\n",
      "       'level_4'],\n",
      "      dtype='object')\n"
     ]
    }
   ],
   "source": [
    "print(tdf.columns)\n",
    "print(cdf.columns)"
   ]
  },
  {
   "cell_type": "code",
   "execution_count": 9,
   "metadata": {},
   "outputs": [],
   "source": []
  },
  {
   "cell_type": "code",
   "execution_count": 10,
   "metadata": {},
   "outputs": [
    {
     "data": {
      "text/plain": "Empty DataFrame\nColumns: [uid, table_id, name, sex, raceeth, age, age_range, min_age, max_age, poverty_status, path, filtered_path, filtered_pathname, n_levels, level_1, level_2, level_3, level_4]\nIndex: []",
      "text/html": "<div>\n<style scoped>\n    .dataframe tbody tr th:only-of-type {\n        vertical-align: middle;\n    }\n\n    .dataframe tbody tr th {\n        vertical-align: top;\n    }\n\n    .dataframe thead th {\n        text-align: right;\n    }\n</style>\n<table border=\"1\" class=\"dataframe\">\n  <thead>\n    <tr style=\"text-align: right;\">\n      <th></th>\n      <th>uid</th>\n      <th>table_id</th>\n      <th>name</th>\n      <th>sex</th>\n      <th>raceeth</th>\n      <th>age</th>\n      <th>age_range</th>\n      <th>min_age</th>\n      <th>max_age</th>\n      <th>poverty_status</th>\n      <th>path</th>\n      <th>filtered_path</th>\n      <th>filtered_pathname</th>\n      <th>n_levels</th>\n      <th>level_1</th>\n      <th>level_2</th>\n      <th>level_3</th>\n      <th>level_4</th>\n    </tr>\n  </thead>\n  <tbody>\n  </tbody>\n</table>\n</div>"
     },
     "execution_count": 10,
     "metadata": {},
     "output_type": "execute_result"
    }
   ],
   "source": [
    "cdf[(cdf.table_id=='B04004') & ~cdf.level_2.isnull()]"
   ]
  },
  {
   "cell_type": "code",
   "execution_count": 10,
   "metadata": {},
   "outputs": [],
   "source": []
  }
 ],
 "metadata": {
  "kernelspec": {
   "display_name": "Python 3 (ipykernel)",
   "language": "python",
   "name": "python3"
  },
  "language_info": {
   "codemirror_mode": {
    "name": "ipython",
    "version": 3
   },
   "file_extension": ".py",
   "mimetype": "text/x-python",
   "name": "python",
   "nbconvert_exporter": "python",
   "pygments_lexer": "ipython3",
   "version": "3.10.6"
  }
 },
 "nbformat": 4,
 "nbformat_minor": 4
}
